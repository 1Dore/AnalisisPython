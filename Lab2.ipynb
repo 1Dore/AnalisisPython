{
 "cells": [
  {
   "cell_type": "markdown",
   "id": "5201c7fe-9a74-410d-b514-859afe44a26d",
   "metadata": {},
   "source": [
    "# Laboratorio Progra de Python\n",
    "### Sintaxis y Estructuras de Datos"
   ]
  },
  {
   "cell_type": "markdown",
   "id": "a2f292cf-bfae-4430-a29a-080b411ff84a",
   "metadata": {
    "tags": []
   },
   "source": [
    "#### Ejercicio 1\n",
    "\n",
    "Haga un programa en Python que reciba de parámetro un número de segundos y que despliegue en pantalla, las horas, minutos y segundos que representan.\n"
   ]
  },
  {
   "cell_type": "code",
   "execution_count": 11,
   "id": "b9162e25-789b-4ae7-82e4-176ecb3252c5",
   "metadata": {
    "tags": []
   },
   "outputs": [
    {
     "name": "stdout",
     "output_type": "stream",
     "text": [
      "Escriba una cantidad de segundos:  5871\n",
      "Horas: 1, Minutos: 37, Segundos: 51\n"
     ]
    }
   ],
   "source": [
    "try:\n",
    "    totseg = int(input(\"Escriba una cantidad de segundos: \"))\n",
    "    seg = totseg % 60\n",
    "    premin = totseg // 60\n",
    "    minu = premin % 60\n",
    "    horas = premin // 60\n",
    "    \n",
    "    print(f\"Horas: {horas}, Minutos: {minu}, Segundos: {seg}\")\n",
    "except Exception as e:\n",
    "    print(f\"Se obtuvo el error {e}\")"
   ]
  },
  {
   "cell_type": "markdown",
   "id": "96e375a4-b10d-4bc1-87d2-7f980324ae30",
   "metadata": {},
   "source": [
    "#### Ejercicio 2\n",
    "\n",
    "Haga una funci´on en Python que dado un nu´mero entre 1 y 20. Y un car´acter cualquiera\n",
    "despliegue cuatro patrones triangulares."
   ]
  },
  {
   "cell_type": "code",
   "execution_count": 2,
   "id": "f76898c6-1109-497e-b54e-10e0fabf2bc2",
   "metadata": {
    "tags": []
   },
   "outputs": [
    {
     "name": "stdin",
     "output_type": "stream",
     "text": [
      "Escriba la cantidad de triangulos:  4\n"
     ]
    },
    {
     "name": "stdout",
     "output_type": "stream",
     "text": [
      "**\n",
      "****\n",
      "****\n",
      "**\n",
      "Se obtuvo el erro list index out of range\n"
     ]
    }
   ],
   "source": [
    "tup = ['*', '**', '***', '****']\n",
    "\n",
    "try:\n",
    "    i = int(input(\"Escriba la cantidad de triangulos: \"))\n",
    "    while (i > 0):\n",
    "        j = 0\n",
    "        while (j < i):\n",
    "            if (j%2 == 1):\n",
    "                print(tup[j])\n",
    "            else:\n",
    "                print(tup[-j+1])\n",
    "            j-=1\n",
    "        i-=1\n",
    "except Exception as e:\n",
    "    print(f\"Se obtuvo el erro {e}\")"
   ]
  },
  {
   "cell_type": "markdown",
   "id": "015cd727-2db0-4723-9b82-ca03116e06d3",
   "metadata": {},
   "source": [
    "#### Ejercicio 3\n",
    "\n",
    "Haga un programa en Python que la fecha de nacimiento de una persona (puede ingresar por\n",
    "separado cada valor, es decir pedir primero d´ıa, luego mes y luego an˜o), despliegue la edad\n",
    "de la persona en an˜os, meses y d´ıas. Su resultado puede ser aproximado"
   ]
  },
  {
   "cell_type": "code",
   "execution_count": 6,
   "id": "ca40217f-1b21-421f-a953-3795c5e62ba6",
   "metadata": {
    "tags": []
   },
   "outputs": [
    {
     "name": "stdin",
     "output_type": "stream",
     "text": [
      "Ingrese su fecha de nacimiento en formato dd/mm/aaaa:  15/10/1999\n"
     ]
    },
    {
     "name": "stdout",
     "output_type": "stream",
     "text": [
      "Su edad es: 24 Años, 4 Meses y 26 Dias\n"
     ]
    }
   ],
   "source": [
    "import datetime\n",
    "\n",
    "try:\n",
    "\n",
    "    fecha = input(\"Ingrese su fecha de nacimiento en formato dd/mm/aaaa: \")\n",
    "\n",
    "    split = fecha.split('/')\n",
    "    if len(split) != 3:\n",
    "        raise ValueError(\"La fecha de nacimiento debe estar en formato dd/mm/aaaa\")\n",
    "\n",
    "    d, m, a = map(int, split)\n",
    "    \n",
    "    f1 = datetime.datetime(a, m, d)\n",
    "    now = datetime.datetime.now()\n",
    "    diff = now - f1\n",
    "\n",
    "    years = diff.days // 365\n",
    "    months = (diff.days % 365) // 30\n",
    "    days = (diff.days % 365) % 30\n",
    "\n",
    "    print(f\"Su edad es: {years} Años, {months} Meses y {days} Dias\")\n",
    "\n",
    "except ValueError as e:\n",
    "    print(e)"
   ]
  },
  {
   "cell_type": "markdown",
   "id": "894b3ffe-e86e-40f2-b358-dd85f02af6a7",
   "metadata": {},
   "source": [
    "#### Ejercicio 4\n",
    "\n",
    "Escriba una funci´on en Python que dada una tupla de elementos (nu´meros o letras) esta se\n",
    "convierta a un string. Tomar nota del siguiente ejemplo:"
   ]
  },
  {
   "cell_type": "markdown",
   "id": "51ed0773-d434-4c13-a483-67adcf8536de",
   "metadata": {
    "tags": []
   },
   "source": [
    "def tuple_to_string(x: tuple) -> str:\n",
    "    \n",
    "    return ''.join(str(a) for a in x)\n",
    "\n",
    "tuple_to_string((10, 20, 40, 5, 70))"
   ]
  },
  {
   "cell_type": "markdown",
   "id": "80716a5f-a91c-4f5e-b959-e397936b398f",
   "metadata": {},
   "source": [
    "#### Ejercicio 5\n",
    "Cree un programa en Python que dada una lista de tuplas, elimine las tuplas que est´an vac´ıas.\n",
    "Tomar nota del siguiente ejemplo:"
   ]
  },
  {
   "cell_type": "code",
   "execution_count": 16,
   "id": "7ae46191-8ff6-47dc-a112-6d34ed736506",
   "metadata": {
    "tags": []
   },
   "outputs": [
    {
     "data": {
      "text/plain": [
       "[('X',), ('a', 'b'), ('a', 'b', 'c'), 'd']"
      ]
     },
     "execution_count": 16,
     "metadata": {},
     "output_type": "execute_result"
    }
   ],
   "source": [
    "def clean_tuples(x: list) -> list:\n",
    "    aux = []\n",
    "    \n",
    "    for item in x:\n",
    "        if(len(item) != 0):\n",
    "            aux.append(item)\n",
    "    return aux\n",
    "\n",
    "clean_tuples( [(), (), ('X',), ('a', 'b'), ('a', 'b', 'c'), ('d')])"
   ]
  },
  {
   "cell_type": "markdown",
   "id": "780e5fbd-5da5-48d1-9986-04c2d24fdcc6",
   "metadata": {},
   "source": [
    "#### Ejercicio 6\n",
    "\n",
    "Cree una funci´on en Python que dada una tupla de tuplas con nu´meros, produzca una tupla\n",
    "con el promedio de cada tupla individual, debe usar comprehensions para desarrollar este\n",
    "ejercicio. Tomar nota del siguiente ejemplo:"
   ]
  },
  {
   "cell_type": "code",
   "execution_count": 19,
   "id": "391e3137-eda5-4c6f-929b-c29dece6a90e",
   "metadata": {
    "tags": []
   },
   "outputs": [
    {
     "data": {
      "text/plain": [
       "(10.5, 44.0, 58.0)"
      ]
     },
     "execution_count": 19,
     "metadata": {},
     "output_type": "execute_result"
    }
   ],
   "source": [
    "def mean_tuples(x: tuple) -> tuple:\n",
    "    aux = []\n",
    "    \n",
    "    for item in x:\n",
    "        n = len(item)\n",
    "        suma = 0\n",
    "        for a in item:\n",
    "            suma += a\n",
    "        aux.append(suma/n)\n",
    "    return tuple(aux)\n",
    "\n",
    "mean_tuples(((10, 10, 10, 12), (30, 45, 56, 45), (81, 80, 39, 32)))"
   ]
  },
  {
   "cell_type": "markdown",
   "id": "ac14c5ce-bfa2-408e-b6ea-b5a6054c8370",
   "metadata": {},
   "source": [
    "#### Ejercicio 7\n",
    "\n",
    "Escribir un programa que gestione las facturas pendientes de cobro de una empresa. Las\n",
    "facturas se almacenar´an en un diccionario donde la llave de cada factura ser´a el nu´mero de\n",
    "factura (debe utilizar un numero de 4 d´ıgitos) y el valor el coste de la factura. El programa\n",
    "debe preguntar al usuario si quiere an˜adir una nueva factura, pagar una existente o terminar.\n",
    "Si desea an˜adir una nueva factura se preguntar´a por el nu´mero de factura y su coste y se\n",
    "an˜adir´a al diccionario, para confirmar que la factura se ingreso correctamente el programa\n",
    "debe desplegar el diccionario completo. Si se desea pagar una factura se preguntar´a por el\n",
    "nu´mero de factura y se eliminar´a del diccionario. Despu´es de cada operaci´on el programa\n",
    "debe mostrar en pantalla la cantidad cobrada hasta el momento y la cantidad pendiente de\n",
    "cobro. Puede utilizar otras estructuras de datos como apoyo si lo considera necesario."
   ]
  },
  {
   "cell_type": "code",
   "execution_count": 26,
   "id": "df6f7936-90c3-472b-b866-a484b10da94d",
   "metadata": {
    "tags": []
   },
   "outputs": [
    {
     "name": "stdin",
     "output_type": "stream",
     "text": [
      "Ingrese una factura de 4 digitos:  1122\n",
      "Ingrese el valor de la factura:  20\n",
      "Quiere agregar otra factura? s/n s\n",
      "Ingrese una factura de 4 digitos:  2020\n",
      "Ingrese el valor de la factura:  30\n",
      "Quiere agregar otra factura? s/n s\n",
      "Ingrese una factura de 4 digitos:  1010\n",
      "Ingrese el valor de la factura:  32\n",
      "Quiere agregar otra factura? s/n n\n"
     ]
    },
    {
     "name": "stdout",
     "output_type": "stream",
     "text": [
      "\n",
      "{'1122': 20, '2020': 30, '1010': 32}\n",
      "Valor a pagar: 82\n",
      "Entramos al modulo de pagar facturas...\n"
     ]
    },
    {
     "name": "stdin",
     "output_type": "stream",
     "text": [
      "desea pagar una factura? s/n s\n",
      "Que factura desea pagar? Ingrese un numero de 4 digitos 2020\n"
     ]
    },
    {
     "name": "stdout",
     "output_type": "stream",
     "text": [
      "Entramos al modulo de pagar facturas...\n"
     ]
    },
    {
     "name": "stdin",
     "output_type": "stream",
     "text": [
      "desea pagar una factura? s/n s\n",
      "Que factura desea pagar? Ingrese un numero de 4 digitos 1122\n"
     ]
    },
    {
     "name": "stdout",
     "output_type": "stream",
     "text": [
      "Entramos al modulo de pagar facturas...\n"
     ]
    },
    {
     "name": "stdin",
     "output_type": "stream",
     "text": [
      "desea pagar una factura? s/n n\n"
     ]
    },
    {
     "name": "stdout",
     "output_type": "stream",
     "text": [
      "Cantidad pendiente de cobrar: 32\n",
      "Cantidad cobrada: 50\n"
     ]
    }
   ],
   "source": [
    "d = {}\n",
    "acum = 0\n",
    "cobrado = 0\n",
    "\n",
    "while(True):\n",
    "    factura = (input(\"Ingrese una factura de 4 digitos: \"))\n",
    "    if (int(factura) < 999):\n",
    "        continue\n",
    "    \n",
    "    valor = int(input(\"Ingrese el valor de la factura: \"))\n",
    "    if (valor < 0):\n",
    "        continue\n",
    "    \n",
    "    d[factura] = valor\n",
    "    \n",
    "    if (input(\"Quiere agregar otra factura? s/n\") == 's'):\n",
    "        continue\n",
    "    else:\n",
    "        acum = 0\n",
    "        for a in d.keys():\n",
    "            acum += d[a]\n",
    "        break\n",
    "\n",
    "print()\n",
    "print(d)\n",
    "print(f\"Valor a pagar: {acum}\")\n",
    "\n",
    "while(True):\n",
    "    print(\"Entramos al modulo de pagar facturas...\")\n",
    "    \n",
    "    if(input(\"desea pagar una factura? s/n\") == 's'):\n",
    "        val = input(\"Que factura desea pagar? Ingrese un numero de 4 digitos\")\n",
    "        cobrado += d[val]\n",
    "        acum -= d[val]\n",
    "        del d[val]\n",
    "    else:\n",
    "        break\n",
    "\n",
    "print(f\"Cantidad pendiente de cobrar: {acum}\")\n",
    "print(f\"Cantidad cobrada: {cobrado}\")\n"
   ]
  },
  {
   "cell_type": "code",
   "execution_count": null,
   "id": "fe826d54-0a8f-4c78-a7ea-dbf5476bdc6a",
   "metadata": {},
   "outputs": [],
   "source": []
  }
 ],
 "metadata": {
  "kernelspec": {
   "display_name": "Python 3 (ipykernel)",
   "language": "python",
   "name": "python3"
  },
  "language_info": {
   "codemirror_mode": {
    "name": "ipython",
    "version": 3
   },
   "file_extension": ".py",
   "mimetype": "text/x-python",
   "name": "python",
   "nbconvert_exporter": "python",
   "pygments_lexer": "ipython3",
   "version": "3.11.5"
  }
 },
 "nbformat": 4,
 "nbformat_minor": 5
}
